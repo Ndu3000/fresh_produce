{
 "cells": [
  {
   "cell_type": "code",
   "execution_count": 1,
   "metadata": {},
   "outputs": [
    {
     "ename": "TypeError",
     "evalue": "attrs() got an unexpected keyword argument 'eq'",
     "output_type": "error",
     "traceback": [
      "\u001b[1;31m---------------------------------------------------------------------------\u001b[0m",
      "\u001b[1;31mTypeError\u001b[0m                                 Traceback (most recent call last)",
      "\u001b[1;32m<ipython-input-1-31ed71988418>\u001b[0m in \u001b[0;36m<module>\u001b[1;34m\u001b[0m\n\u001b[0;32m      1\u001b[0m \u001b[1;32mimport\u001b[0m \u001b[0mpandas\u001b[0m \u001b[1;32mas\u001b[0m \u001b[0mpd\u001b[0m\u001b[1;33m\u001b[0m\u001b[1;33m\u001b[0m\u001b[0m\n\u001b[0;32m      2\u001b[0m \u001b[1;32mimport\u001b[0m \u001b[0mrequests\u001b[0m\u001b[1;33m\u001b[0m\u001b[1;33m\u001b[0m\u001b[0m\n\u001b[1;32m----> 3\u001b[1;33m \u001b[1;32mfrom\u001b[0m \u001b[0mscrapy\u001b[0m\u001b[1;33m.\u001b[0m\u001b[0mhttp\u001b[0m \u001b[1;32mimport\u001b[0m \u001b[0mHtmlResponse\u001b[0m\u001b[1;33m\u001b[0m\u001b[1;33m\u001b[0m\u001b[0m\n\u001b[0m\u001b[0;32m      4\u001b[0m \u001b[1;33m\u001b[0m\u001b[0m\n\u001b[0;32m      5\u001b[0m \u001b[1;32mimport\u001b[0m \u001b[0mwarnings\u001b[0m\u001b[1;33m\u001b[0m\u001b[1;33m\u001b[0m\u001b[0m\n",
      "\u001b[1;32m~\\Anaconda3\\lib\\site-packages\\scrapy\\__init__.py\u001b[0m in \u001b[0;36m<module>\u001b[1;34m\u001b[0m\n\u001b[0;32m     32\u001b[0m \u001b[1;33m\u001b[0m\u001b[0m\n\u001b[0;32m     33\u001b[0m \u001b[1;31m# Declare top-level shortcuts\u001b[0m\u001b[1;33m\u001b[0m\u001b[1;33m\u001b[0m\u001b[1;33m\u001b[0m\u001b[0m\n\u001b[1;32m---> 34\u001b[1;33m \u001b[1;32mfrom\u001b[0m \u001b[0mscrapy\u001b[0m\u001b[1;33m.\u001b[0m\u001b[0mspiders\u001b[0m \u001b[1;32mimport\u001b[0m \u001b[0mSpider\u001b[0m\u001b[1;33m\u001b[0m\u001b[1;33m\u001b[0m\u001b[0m\n\u001b[0m\u001b[0;32m     35\u001b[0m \u001b[1;32mfrom\u001b[0m \u001b[0mscrapy\u001b[0m\u001b[1;33m.\u001b[0m\u001b[0mhttp\u001b[0m \u001b[1;32mimport\u001b[0m \u001b[0mRequest\u001b[0m\u001b[1;33m,\u001b[0m \u001b[0mFormRequest\u001b[0m\u001b[1;33m\u001b[0m\u001b[1;33m\u001b[0m\u001b[0m\n\u001b[0;32m     36\u001b[0m \u001b[1;32mfrom\u001b[0m \u001b[0mscrapy\u001b[0m\u001b[1;33m.\u001b[0m\u001b[0mselector\u001b[0m \u001b[1;32mimport\u001b[0m \u001b[0mSelector\u001b[0m\u001b[1;33m\u001b[0m\u001b[1;33m\u001b[0m\u001b[0m\n",
      "\u001b[1;32m~\\Anaconda3\\lib\\site-packages\\scrapy\\spiders\\__init__.py\u001b[0m in \u001b[0;36m<module>\u001b[1;34m\u001b[0m\n\u001b[0;32m      8\u001b[0m \u001b[1;33m\u001b[0m\u001b[0m\n\u001b[0;32m      9\u001b[0m \u001b[1;32mfrom\u001b[0m \u001b[0mscrapy\u001b[0m \u001b[1;32mimport\u001b[0m \u001b[0msignals\u001b[0m\u001b[1;33m\u001b[0m\u001b[1;33m\u001b[0m\u001b[0m\n\u001b[1;32m---> 10\u001b[1;33m \u001b[1;32mfrom\u001b[0m \u001b[0mscrapy\u001b[0m\u001b[1;33m.\u001b[0m\u001b[0mhttp\u001b[0m \u001b[1;32mimport\u001b[0m \u001b[0mRequest\u001b[0m\u001b[1;33m\u001b[0m\u001b[1;33m\u001b[0m\u001b[0m\n\u001b[0m\u001b[0;32m     11\u001b[0m \u001b[1;32mfrom\u001b[0m \u001b[0mscrapy\u001b[0m\u001b[1;33m.\u001b[0m\u001b[0mutils\u001b[0m\u001b[1;33m.\u001b[0m\u001b[0mtrackref\u001b[0m \u001b[1;32mimport\u001b[0m \u001b[0mobject_ref\u001b[0m\u001b[1;33m\u001b[0m\u001b[1;33m\u001b[0m\u001b[0m\n\u001b[0;32m     12\u001b[0m \u001b[1;32mfrom\u001b[0m \u001b[0mscrapy\u001b[0m\u001b[1;33m.\u001b[0m\u001b[0mutils\u001b[0m\u001b[1;33m.\u001b[0m\u001b[0murl\u001b[0m \u001b[1;32mimport\u001b[0m \u001b[0murl_is_from_spider\u001b[0m\u001b[1;33m\u001b[0m\u001b[1;33m\u001b[0m\u001b[0m\n",
      "\u001b[1;32m~\\Anaconda3\\lib\\site-packages\\scrapy\\http\\__init__.py\u001b[0m in \u001b[0;36m<module>\u001b[1;34m\u001b[0m\n\u001b[0;32m      9\u001b[0m \u001b[1;33m\u001b[0m\u001b[0m\n\u001b[0;32m     10\u001b[0m \u001b[1;32mfrom\u001b[0m \u001b[0mscrapy\u001b[0m\u001b[1;33m.\u001b[0m\u001b[0mhttp\u001b[0m\u001b[1;33m.\u001b[0m\u001b[0mrequest\u001b[0m \u001b[1;32mimport\u001b[0m \u001b[0mRequest\u001b[0m\u001b[1;33m\u001b[0m\u001b[1;33m\u001b[0m\u001b[0m\n\u001b[1;32m---> 11\u001b[1;33m \u001b[1;32mfrom\u001b[0m \u001b[0mscrapy\u001b[0m\u001b[1;33m.\u001b[0m\u001b[0mhttp\u001b[0m\u001b[1;33m.\u001b[0m\u001b[0mrequest\u001b[0m\u001b[1;33m.\u001b[0m\u001b[0mform\u001b[0m \u001b[1;32mimport\u001b[0m \u001b[0mFormRequest\u001b[0m\u001b[1;33m\u001b[0m\u001b[1;33m\u001b[0m\u001b[0m\n\u001b[0m\u001b[0;32m     12\u001b[0m \u001b[1;32mfrom\u001b[0m \u001b[0mscrapy\u001b[0m\u001b[1;33m.\u001b[0m\u001b[0mhttp\u001b[0m\u001b[1;33m.\u001b[0m\u001b[0mrequest\u001b[0m\u001b[1;33m.\u001b[0m\u001b[0mrpc\u001b[0m \u001b[1;32mimport\u001b[0m \u001b[0mXmlRpcRequest\u001b[0m\u001b[1;33m\u001b[0m\u001b[1;33m\u001b[0m\u001b[0m\n\u001b[0;32m     13\u001b[0m \u001b[1;32mfrom\u001b[0m \u001b[0mscrapy\u001b[0m\u001b[1;33m.\u001b[0m\u001b[0mhttp\u001b[0m\u001b[1;33m.\u001b[0m\u001b[0mrequest\u001b[0m\u001b[1;33m.\u001b[0m\u001b[0mjson_request\u001b[0m \u001b[1;32mimport\u001b[0m \u001b[0mJsonRequest\u001b[0m\u001b[1;33m\u001b[0m\u001b[1;33m\u001b[0m\u001b[0m\n",
      "\u001b[1;32m~\\Anaconda3\\lib\\site-packages\\scrapy\\http\\request\\form.py\u001b[0m in \u001b[0;36m<module>\u001b[1;34m\u001b[0m\n\u001b[0;32m     14\u001b[0m \u001b[1;32mfrom\u001b[0m \u001b[0mscrapy\u001b[0m\u001b[1;33m.\u001b[0m\u001b[0mhttp\u001b[0m\u001b[1;33m.\u001b[0m\u001b[0mrequest\u001b[0m \u001b[1;32mimport\u001b[0m \u001b[0mRequest\u001b[0m\u001b[1;33m\u001b[0m\u001b[1;33m\u001b[0m\u001b[0m\n\u001b[0;32m     15\u001b[0m \u001b[1;32mfrom\u001b[0m \u001b[0mscrapy\u001b[0m\u001b[1;33m.\u001b[0m\u001b[0mutils\u001b[0m\u001b[1;33m.\u001b[0m\u001b[0mpython\u001b[0m \u001b[1;32mimport\u001b[0m \u001b[0mto_bytes\u001b[0m\u001b[1;33m,\u001b[0m \u001b[0mis_listlike\u001b[0m\u001b[1;33m\u001b[0m\u001b[1;33m\u001b[0m\u001b[0m\n\u001b[1;32m---> 16\u001b[1;33m \u001b[1;32mfrom\u001b[0m \u001b[0mscrapy\u001b[0m\u001b[1;33m.\u001b[0m\u001b[0mutils\u001b[0m\u001b[1;33m.\u001b[0m\u001b[0mresponse\u001b[0m \u001b[1;32mimport\u001b[0m \u001b[0mget_base_url\u001b[0m\u001b[1;33m\u001b[0m\u001b[1;33m\u001b[0m\u001b[0m\n\u001b[0m\u001b[0;32m     17\u001b[0m \u001b[1;33m\u001b[0m\u001b[0m\n\u001b[0;32m     18\u001b[0m \u001b[1;33m\u001b[0m\u001b[0m\n",
      "\u001b[1;32m~\\Anaconda3\\lib\\site-packages\\scrapy\\utils\\response.py\u001b[0m in \u001b[0;36m<module>\u001b[1;34m\u001b[0m\n\u001b[0;32m      8\u001b[0m \u001b[1;32mimport\u001b[0m \u001b[0mtempfile\u001b[0m\u001b[1;33m\u001b[0m\u001b[1;33m\u001b[0m\u001b[0m\n\u001b[0;32m      9\u001b[0m \u001b[1;33m\u001b[0m\u001b[0m\n\u001b[1;32m---> 10\u001b[1;33m \u001b[1;32mfrom\u001b[0m \u001b[0mtwisted\u001b[0m\u001b[1;33m.\u001b[0m\u001b[0mweb\u001b[0m \u001b[1;32mimport\u001b[0m \u001b[0mhttp\u001b[0m\u001b[1;33m\u001b[0m\u001b[1;33m\u001b[0m\u001b[0m\n\u001b[0m\u001b[0;32m     11\u001b[0m \u001b[1;32mfrom\u001b[0m \u001b[0mscrapy\u001b[0m\u001b[1;33m.\u001b[0m\u001b[0mutils\u001b[0m\u001b[1;33m.\u001b[0m\u001b[0mpython\u001b[0m \u001b[1;32mimport\u001b[0m \u001b[0mto_bytes\u001b[0m\u001b[1;33m,\u001b[0m \u001b[0mto_unicode\u001b[0m\u001b[1;33m\u001b[0m\u001b[1;33m\u001b[0m\u001b[0m\n\u001b[0;32m     12\u001b[0m \u001b[1;32mfrom\u001b[0m \u001b[0mw3lib\u001b[0m \u001b[1;32mimport\u001b[0m \u001b[0mhtml\u001b[0m\u001b[1;33m\u001b[0m\u001b[1;33m\u001b[0m\u001b[0m\n",
      "\u001b[1;32m~\\Anaconda3\\lib\\site-packages\\twisted\\web\\http.py\u001b[0m in \u001b[0;36m<module>\u001b[1;34m\u001b[0m\n\u001b[0;32m    100\u001b[0m \u001b[1;32mfrom\u001b[0m \u001b[0mincremental\u001b[0m \u001b[1;32mimport\u001b[0m \u001b[0mVersion\u001b[0m\u001b[1;33m\u001b[0m\u001b[1;33m\u001b[0m\u001b[0m\n\u001b[0;32m    101\u001b[0m \u001b[1;32mfrom\u001b[0m \u001b[0mtwisted\u001b[0m\u001b[1;33m.\u001b[0m\u001b[0mpython\u001b[0m\u001b[1;33m.\u001b[0m\u001b[0mcomponents\u001b[0m \u001b[1;32mimport\u001b[0m \u001b[0mproxyForInterface\u001b[0m\u001b[1;33m\u001b[0m\u001b[1;33m\u001b[0m\u001b[0m\n\u001b[1;32m--> 102\u001b[1;33m \u001b[1;32mfrom\u001b[0m \u001b[0mtwisted\u001b[0m\u001b[1;33m.\u001b[0m\u001b[0minternet\u001b[0m \u001b[1;32mimport\u001b[0m \u001b[0minterfaces\u001b[0m\u001b[1;33m,\u001b[0m \u001b[0mprotocol\u001b[0m\u001b[1;33m,\u001b[0m \u001b[0maddress\u001b[0m\u001b[1;33m\u001b[0m\u001b[1;33m\u001b[0m\u001b[0m\n\u001b[0m\u001b[0;32m    103\u001b[0m \u001b[1;32mfrom\u001b[0m \u001b[0mtwisted\u001b[0m\u001b[1;33m.\u001b[0m\u001b[0minternet\u001b[0m\u001b[1;33m.\u001b[0m\u001b[0mdefer\u001b[0m \u001b[1;32mimport\u001b[0m \u001b[0mDeferred\u001b[0m\u001b[1;33m\u001b[0m\u001b[1;33m\u001b[0m\u001b[0m\n\u001b[0;32m    104\u001b[0m \u001b[1;32mfrom\u001b[0m \u001b[0mtwisted\u001b[0m\u001b[1;33m.\u001b[0m\u001b[0minternet\u001b[0m\u001b[1;33m.\u001b[0m\u001b[0minterfaces\u001b[0m \u001b[1;32mimport\u001b[0m \u001b[0mIProtocol\u001b[0m\u001b[1;33m\u001b[0m\u001b[1;33m\u001b[0m\u001b[0m\n",
      "\u001b[1;32m~\\Anaconda3\\lib\\site-packages\\twisted\\internet\\address.py\u001b[0m in \u001b[0;36m<module>\u001b[1;34m\u001b[0m\n\u001b[0;32m     99\u001b[0m \u001b[1;33m\u001b[0m\u001b[0m\n\u001b[0;32m    100\u001b[0m \u001b[1;33m\u001b[0m\u001b[0m\n\u001b[1;32m--> 101\u001b[1;33m \u001b[1;33m@\u001b[0m\u001b[0mattr\u001b[0m\u001b[1;33m.\u001b[0m\u001b[0ms\u001b[0m\u001b[1;33m(\u001b[0m\u001b[0mhash\u001b[0m\u001b[1;33m=\u001b[0m\u001b[1;32mFalse\u001b[0m\u001b[1;33m,\u001b[0m \u001b[0mrepr\u001b[0m\u001b[1;33m=\u001b[0m\u001b[1;32mFalse\u001b[0m\u001b[1;33m,\u001b[0m \u001b[0meq\u001b[0m\u001b[1;33m=\u001b[0m\u001b[1;32mFalse\u001b[0m\u001b[1;33m)\u001b[0m\u001b[1;33m\u001b[0m\u001b[1;33m\u001b[0m\u001b[0m\n\u001b[0m\u001b[0;32m    102\u001b[0m \u001b[1;33m@\u001b[0m\u001b[0mimplementer\u001b[0m\u001b[1;33m(\u001b[0m\u001b[0mIAddress\u001b[0m\u001b[1;33m)\u001b[0m\u001b[1;33m\u001b[0m\u001b[1;33m\u001b[0m\u001b[0m\n\u001b[0;32m    103\u001b[0m \u001b[1;32mclass\u001b[0m \u001b[0mUNIXAddress\u001b[0m\u001b[1;33m(\u001b[0m\u001b[0mobject\u001b[0m\u001b[1;33m)\u001b[0m\u001b[1;33m:\u001b[0m\u001b[1;33m\u001b[0m\u001b[1;33m\u001b[0m\u001b[0m\n",
      "\u001b[1;31mTypeError\u001b[0m: attrs() got an unexpected keyword argument 'eq'"
     ]
    }
   ],
   "source": [
    "import pandas as pd\n",
    "import requests\n",
    "from scrapy.http import HtmlResponse\n",
    "\n",
    "import warnings\n",
    "warnings.filterwarnings('ignore')\n",
    "import re"
   ]
  },
  {
   "cell_type": "code",
   "execution_count": null,
   "metadata": {},
   "outputs": [],
   "source": [
    "url = 'http://www.joburgmarket.co.za/dailyprices.php'"
   ]
  },
  {
   "cell_type": "code",
   "execution_count": null,
   "metadata": {},
   "outputs": [],
   "source": [
    "html = requests.get(url).content"
   ]
  },
  {
   "cell_type": "code",
   "execution_count": null,
   "metadata": {},
   "outputs": [],
   "source": [
    "response = HtmlResponse(url=url, body=html)"
   ]
  },
  {
   "cell_type": "code",
   "execution_count": 5,
   "metadata": {},
   "outputs": [
    {
     "data": {
      "text/plain": [
       "['Daily Prices']"
      ]
     },
     "execution_count": 5,
     "metadata": {},
     "output_type": "execute_result"
    }
   ],
   "source": [
    "response.css('div#right2 > h1 ::text').extract()"
   ]
  },
  {
   "cell_type": "code",
   "execution_count": 6,
   "metadata": {},
   "outputs": [
    {
     "data": {
      "text/plain": [
       "['Daily Prices']"
      ]
     },
     "execution_count": 6,
     "metadata": {},
     "output_type": "execute_result"
    }
   ],
   "source": [
    "response.xpath('//div[@id=\"right2\"]/h1//text()').extract()"
   ]
  },
  {
   "cell_type": "code",
   "execution_count": 7,
   "metadata": {},
   "outputs": [
    {
     "data": {
      "text/plain": [
       "'Daily Prices'"
      ]
     },
     "execution_count": 7,
     "metadata": {},
     "output_type": "execute_result"
    }
   ],
   "source": [
    "response.xpath('//div[@id=\"right2\"]').css('h1 ::text').extract_first()"
   ]
  },
  {
   "cell_type": "code",
   "execution_count": 8,
   "metadata": {},
   "outputs": [
    {
     "data": {
      "text/plain": [
       "'5 May 2020'"
      ]
     },
     "execution_count": 8,
     "metadata": {},
     "output_type": "execute_result"
    }
   ],
   "source": [
    "response.xpath('//div[@id=\"right2\"]').css('p b ::text').extract_first()"
   ]
  },
  {
   "cell_type": "code",
   "execution_count": 9,
   "metadata": {},
   "outputs": [
    {
     "data": {
      "text/plain": [
       "'Daily Prices'"
      ]
     },
     "execution_count": 9,
     "metadata": {},
     "output_type": "execute_result"
    }
   ],
   "source": [
    "response.xpath('//div[@id=\"right2\"]/h1//text()').get()"
   ]
  },
  {
   "cell_type": "code",
   "execution_count": 10,
   "metadata": {},
   "outputs": [
    {
     "data": {
      "text/plain": [
       "'5 May 2020'"
      ]
     },
     "execution_count": 10,
     "metadata": {},
     "output_type": "execute_result"
    }
   ],
   "source": [
    "response.xpath('//div[@id=\"right2\"]').css('p b ::text').get()"
   ]
  },
  {
   "cell_type": "code",
   "execution_count": 34,
   "metadata": {},
   "outputs": [],
   "source": [
    "#response.css('select option ::text').getall()[1:]"
   ]
  },
  {
   "cell_type": "code",
   "execution_count": 40,
   "metadata": {},
   "outputs": [],
   "source": [
    "sample = response.xpath('//select/option[@value]').extract()[1:5]"
   ]
  },
  {
   "cell_type": "code",
   "execution_count": 41,
   "metadata": {},
   "outputs": [
    {
     "data": {
      "text/plain": [
       "['<option value=\"112\">AMADUMBE</option>',\n",
       " '<option value=\"90\">APPLES</option>',\n",
       " '<option value=\"113\">ARTICHOKES</option>',\n",
       " '<option value=\"272\">ASPARAGUS</option>']"
      ]
     },
     "execution_count": 41,
     "metadata": {},
     "output_type": "execute_result"
    }
   ],
   "source": [
    "sample"
   ]
  },
  {
   "cell_type": "code",
   "execution_count": 47,
   "metadata": {},
   "outputs": [
    {
     "name": "stdout",
     "output_type": "stream",
     "text": [
      "['112']\n",
      "['90']\n",
      "['113']\n",
      "['272']\n"
     ]
    }
   ],
   "source": [
    "for item in sample:\n",
    "    print(re.findall(r'\\d+', item))"
   ]
  },
  {
   "cell_type": "code",
   "execution_count": null,
   "metadata": {},
   "outputs": [],
   "source": [
    "#link?commodity={}"
   ]
  },
  {
   "cell_type": "code",
   "execution_count": 99,
   "metadata": {},
   "outputs": [],
   "source": [
    "col_headings = [\n",
    "    'Date',\n",
    "    'Commodity',\n",
    "    'Total Value Sold',\n",
    "    'Total Value Sold MTD',\n",
    "    'Total Qty Sold',\n",
    "    'Total Qty Sold MTD',\n",
    "    'Total Kg Sold',\n",
    "    'Total Kg Sold MTD',\n",
    "    'Qty Available'\n",
    "]"
   ]
  },
  {
   "cell_type": "code",
   "execution_count": 17,
   "metadata": {},
   "outputs": [],
   "source": [
    "product = response.xpath('//table[@class=\"alltable\"]').css('td.tleft2 ::text').extract()"
   ]
  },
  {
   "cell_type": "code",
   "execution_count": 18,
   "metadata": {},
   "outputs": [
    {
     "data": {
      "text/plain": [
       "['AMADUMBE',\n",
       " 'APPLES',\n",
       " 'ARTICHOKES',\n",
       " 'ASPARAGUS',\n",
       " 'ATCHARA',\n",
       " 'AVOCADOS',\n",
       " 'BABY BEET',\n",
       " 'BABY BRINJALS',\n",
       " 'BABY BUTTERNUT',\n",
       " 'BABY CABBAGE',\n",
       " 'BABY CARROTS',\n",
       " 'BABY ENGLISH CUCUMBER',\n",
       " 'BABY GEM SQUASH',\n",
       " 'BABY LEAF',\n",
       " 'BABY LEEKS',\n",
       " 'BABY MARROWS',\n",
       " 'BABY MIX',\n",
       " 'BABY SWEET CORN',\n",
       " 'BANANAS',\n",
       " 'BASIL',\n",
       " 'BEAN SPROUTS',\n",
       " 'BEANS',\n",
       " 'BEANS INDIAN',\n",
       " 'BEETROOT',\n",
       " 'BEETROOT PROCESSED',\n",
       " 'BLACKBERRIES',\n",
       " 'BLUEBERRIES',\n",
       " 'BOK CHOY PAK-CHOI',\n",
       " 'BRINJALS',\n",
       " 'BROCCOLI',\n",
       " 'BROCCOLI LEAVES',\n",
       " 'BUTTER LETTUCE',\n",
       " 'BUTTERNUT',\n",
       " 'CABBAGE',\n",
       " 'CABBAGE  SUGAR',\n",
       " 'CABBAGE RED',\n",
       " 'CALABASH',\n",
       " 'CARROTS',\n",
       " 'CAULI/BROC',\n",
       " 'CAULIFLOWER',\n",
       " 'CELERY',\n",
       " 'CHILLIES',\n",
       " 'CHINESE  VEGETABLES',\n",
       " 'CHIPS',\n",
       " 'CHIVES',\n",
       " 'CHORIE',\n",
       " 'CLEMENTINES',\n",
       " 'COCKTAIL TOMATOES',\n",
       " 'COCONUTS',\n",
       " 'CORIANDER/DHANYA',\n",
       " 'CRUSHED GINGER/GARLIC',\n",
       " 'CUCUMBER',\n",
       " 'CURRY LEAVES',\n",
       " 'DATES',\n",
       " 'DHANYA',\n",
       " 'DILL',\n",
       " 'DRAGON FRUIT',\n",
       " 'DRIED FRUIT',\n",
       " 'EDIBLE FLOWERS',\n",
       " 'EMPTY BOXES',\n",
       " 'ENDIVE/CHICORY',\n",
       " 'ENGLISH CUCUMBER',\n",
       " 'FENNEL/ANISE',\n",
       " 'FIGS',\n",
       " 'FIREWOOD',\n",
       " 'GARLIC',\n",
       " 'GARLIC PROCESSED',\n",
       " 'GEELORA',\n",
       " 'GEM SQUASHES',\n",
       " 'GHERKINS',\n",
       " 'GINGER PROCESSED',\n",
       " 'GINGER ROOT',\n",
       " 'GOOSEBERRIES',\n",
       " 'GOOVAAR',\n",
       " 'GRANADILLA',\n",
       " 'GRAPEFRUIT',\n",
       " 'GRAPES',\n",
       " 'GREEN MEALIES',\n",
       " 'GREEN PEPPERS',\n",
       " 'GUAVA',\n",
       " 'HONEY',\n",
       " 'HUBBARD SQUASHES',\n",
       " 'JACK BE LITTLE',\n",
       " 'JUICE',\n",
       " 'KALE',\n",
       " 'KARELA',\n",
       " 'KIWIFRUIT',\n",
       " 'KOHLRABI',\n",
       " 'KUMQUAT',\n",
       " 'LEEKS',\n",
       " 'LEMON GRASS',\n",
       " 'LEMONS',\n",
       " 'LETTUCE',\n",
       " 'LETTUCE LIVING',\n",
       " 'LIMES',\n",
       " 'LIQUIDS',\n",
       " 'MANGO',\n",
       " 'MARROWS',\n",
       " 'MELONS',\n",
       " 'MICRO HERBS',\n",
       " 'MINT',\n",
       " 'MITJI BUDGIE',\n",
       " 'MIXED',\n",
       " 'MIXED HERBS',\n",
       " 'MOROGO',\n",
       " 'MUSHROOMS',\n",
       " 'MUSK MELONS',\n",
       " 'MUSTARD LEAVE',\n",
       " 'NAARTJIES',\n",
       " 'NOVA',\n",
       " 'OKRA',\n",
       " 'OLIVES',\n",
       " 'ONIONS',\n",
       " 'ORANGES',\n",
       " 'OREGANO',\n",
       " 'PAMPALMOESE',\n",
       " 'PANTRA LEAVES',\n",
       " 'PAPINO',\n",
       " 'PAPRI',\n",
       " 'PAPRIKA',\n",
       " 'PARSLEY',\n",
       " 'PARSNIP',\n",
       " 'PATTY PANS',\n",
       " 'PEACHES',\n",
       " 'PEARS',\n",
       " 'PEAS',\n",
       " 'PERSIMMON/SHARON FRUIT',\n",
       " 'PINEAPPLES',\n",
       " 'PKS BLUE QUEEN',\n",
       " 'PLUMS',\n",
       " 'POMEGRANATE',\n",
       " 'POT PLANTS',\n",
       " 'POTATOES',\n",
       " 'PRICKLY PEAR',\n",
       " 'PUMPKINS',\n",
       " 'QUINCE',\n",
       " 'RADISH',\n",
       " 'RAINBOW PEPPERS',\n",
       " 'RASPBERRIES',\n",
       " 'RED BEANS',\n",
       " 'RED LETTUCE',\n",
       " 'RED PEPPERS',\n",
       " 'RHUBARB',\n",
       " 'ROCKET',\n",
       " 'ROSEMARY',\n",
       " 'SAGE',\n",
       " 'SATSUMAS',\n",
       " 'SHALLOTS',\n",
       " 'SOUP GREENS',\n",
       " 'SPEARMINT',\n",
       " 'SPINACH',\n",
       " 'SPRING ONIONS',\n",
       " 'SPROUTS',\n",
       " 'STRAWBERRIES',\n",
       " 'SUGAR CANE',\n",
       " 'SWEET BASIL',\n",
       " 'SWEET CORN',\n",
       " 'SWEET MELONS',\n",
       " 'SWEET POTATO',\n",
       " 'SWEETS',\n",
       " 'TABLE CELERY',\n",
       " 'TAMARILLO',\n",
       " 'THYME',\n",
       " 'TOMATOES',\n",
       " 'TOMATOES DRIED',\n",
       " 'TURIA',\n",
       " 'TURMERIC',\n",
       " 'TURNIP',\n",
       " 'VIRTUAL PRODUCT',\n",
       " 'WATERMELONS',\n",
       " 'WILD ROCKET',\n",
       " 'YELLOW PEPPERS']"
      ]
     },
     "execution_count": 18,
     "metadata": {},
     "output_type": "execute_result"
    }
   ],
   "source": [
    "product"
   ]
  },
  {
   "cell_type": "code",
   "execution_count": 94,
   "metadata": {},
   "outputs": [],
   "source": [
    "date = response.xpath('//div[@id=\"right2\"]').css('p b ::text').extract_first()"
   ]
  },
  {
   "cell_type": "code",
   "execution_count": 100,
   "metadata": {},
   "outputs": [],
   "source": [
    "purchases = []\n",
    "for i, fresh_produce in enumerate(product):\n",
    "    row = response.xpath('//table[@class=\"alltable\"]').css('td.tleft ::text').extract()[(i * 7):(i * 7) + 7]\n",
    "    modified_list = [] \n",
    "    for index, item in enumerate(row):\n",
    "        item = item.replace(\",\", \"\").replace(\"R\", \"\").replace(\"MTD:\", \"\") # i.e. converted e.g. R 1,234.56 --> 1234.56\n",
    "        item = item.lstrip()\n",
    "        modified_list.append(float(item))\n",
    "    purchases.append([date] + [fresh_produce] + modified_list)"
   ]
  },
  {
   "cell_type": "code",
   "execution_count": 101,
   "metadata": {},
   "outputs": [
    {
     "data": {
      "text/plain": [
       "['30 April 2020', 'AMADUMBE', 1330.0, 96510.0, 7.0, 226.0, 140.0, 4520.0, 0.0]"
      ]
     },
     "execution_count": 101,
     "metadata": {},
     "output_type": "execute_result"
    }
   ],
   "source": [
    "purchases[0]"
   ]
  },
  {
   "cell_type": "code",
   "execution_count": 106,
   "metadata": {},
   "outputs": [],
   "source": [
    "df = pd.DataFrame(data=purchases, columns=col_headings)"
   ]
  },
  {
   "cell_type": "code",
   "execution_count": 107,
   "metadata": {},
   "outputs": [
    {
     "data": {
      "text/html": [
       "<div>\n",
       "<style scoped>\n",
       "    .dataframe tbody tr th:only-of-type {\n",
       "        vertical-align: middle;\n",
       "    }\n",
       "\n",
       "    .dataframe tbody tr th {\n",
       "        vertical-align: top;\n",
       "    }\n",
       "\n",
       "    .dataframe thead th {\n",
       "        text-align: right;\n",
       "    }\n",
       "</style>\n",
       "<table border=\"1\" class=\"dataframe\">\n",
       "  <thead>\n",
       "    <tr style=\"text-align: right;\">\n",
       "      <th></th>\n",
       "      <th>Date</th>\n",
       "      <th>Commodity</th>\n",
       "      <th>Total Value Sold</th>\n",
       "      <th>Total Value Sold MTD</th>\n",
       "      <th>Total Qty Sold</th>\n",
       "      <th>Total Qty Sold MTD</th>\n",
       "      <th>Total Kg Sold</th>\n",
       "      <th>Total Kg Sold MTD</th>\n",
       "      <th>Qty Available</th>\n",
       "    </tr>\n",
       "  </thead>\n",
       "  <tbody>\n",
       "    <tr>\n",
       "      <th>0</th>\n",
       "      <td>30 April 2020</td>\n",
       "      <td>AMADUMBE</td>\n",
       "      <td>1330.00</td>\n",
       "      <td>96510.0</td>\n",
       "      <td>7.0</td>\n",
       "      <td>226.0</td>\n",
       "      <td>140.0</td>\n",
       "      <td>4520.0</td>\n",
       "      <td>0.0</td>\n",
       "    </tr>\n",
       "    <tr>\n",
       "      <th>1</th>\n",
       "      <td>30 April 2020</td>\n",
       "      <td>APPLES</td>\n",
       "      <td>1866501.00</td>\n",
       "      <td>28600166.3</td>\n",
       "      <td>23769.0</td>\n",
       "      <td>333449.0</td>\n",
       "      <td>303208.0</td>\n",
       "      <td>3969349.0</td>\n",
       "      <td>118915.0</td>\n",
       "    </tr>\n",
       "    <tr>\n",
       "      <th>2</th>\n",
       "      <td>30 April 2020</td>\n",
       "      <td>ASPARAGUS</td>\n",
       "      <td>32000.00</td>\n",
       "      <td>135806.0</td>\n",
       "      <td>32.0</td>\n",
       "      <td>382.0</td>\n",
       "      <td>160.0</td>\n",
       "      <td>1693.0</td>\n",
       "      <td>1.0</td>\n",
       "    </tr>\n",
       "    <tr>\n",
       "      <th>3</th>\n",
       "      <td>30 April 2020</td>\n",
       "      <td>ATCHARA</td>\n",
       "      <td>820.80</td>\n",
       "      <td>4551.8</td>\n",
       "      <td>29.0</td>\n",
       "      <td>122.0</td>\n",
       "      <td>38.0</td>\n",
       "      <td>215.0</td>\n",
       "      <td>196.0</td>\n",
       "    </tr>\n",
       "    <tr>\n",
       "      <th>4</th>\n",
       "      <td>30 April 2020</td>\n",
       "      <td>AVOCADOS</td>\n",
       "      <td>643910.82</td>\n",
       "      <td>10796817.8</td>\n",
       "      <td>7469.0</td>\n",
       "      <td>150080.0</td>\n",
       "      <td>61098.0</td>\n",
       "      <td>1002509.0</td>\n",
       "      <td>17553.0</td>\n",
       "    </tr>\n",
       "  </tbody>\n",
       "</table>\n",
       "</div>"
      ],
      "text/plain": [
       "            Date  Commodity  Total Value Sold  Total Value Sold MTD  \\\n",
       "0  30 April 2020   AMADUMBE           1330.00               96510.0   \n",
       "1  30 April 2020     APPLES        1866501.00            28600166.3   \n",
       "2  30 April 2020  ASPARAGUS          32000.00              135806.0   \n",
       "3  30 April 2020    ATCHARA            820.80                4551.8   \n",
       "4  30 April 2020   AVOCADOS         643910.82            10796817.8   \n",
       "\n",
       "   Total Qty Sold  Total Qty Sold MTD  Total Kg Sold  Total Kg Sold MTD  \\\n",
       "0             7.0               226.0          140.0             4520.0   \n",
       "1         23769.0            333449.0       303208.0          3969349.0   \n",
       "2            32.0               382.0          160.0             1693.0   \n",
       "3            29.0               122.0           38.0              215.0   \n",
       "4          7469.0            150080.0        61098.0          1002509.0   \n",
       "\n",
       "   Qty Available  \n",
       "0            0.0  \n",
       "1       118915.0  \n",
       "2            1.0  \n",
       "3          196.0  \n",
       "4        17553.0  "
      ]
     },
     "execution_count": 107,
     "metadata": {},
     "output_type": "execute_result"
    }
   ],
   "source": [
    "df.head()"
   ]
  },
  {
   "cell_type": "code",
   "execution_count": null,
   "metadata": {},
   "outputs": [],
   "source": []
  }
 ],
 "metadata": {
  "kernelspec": {
   "display_name": "Python 3",
   "language": "python",
   "name": "python3"
  },
  "language_info": {
   "codemirror_mode": {
    "name": "ipython",
    "version": 3
   },
   "file_extension": ".py",
   "mimetype": "text/x-python",
   "name": "python",
   "nbconvert_exporter": "python",
   "pygments_lexer": "ipython3",
   "version": "3.7.3"
  }
 },
 "nbformat": 4,
 "nbformat_minor": 4
}
